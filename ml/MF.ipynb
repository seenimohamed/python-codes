{
 "cells": [
  {
   "cell_type": "code",
   "execution_count": 30,
   "metadata": {},
   "outputs": [],
   "source": [
    "import numpy\n",
    "\n",
    "def matrix_factorization(R, P, Q, N, M, K, steps=5000, alpha=0.0002, beta=0.02) :\n",
    "    Q = Q.T  #changing the dimension to do dot product between the matrices\n",
    "\n",
    "    for step in range(steps) :\n",
    "        for i in range(N) :\n",
    "            for j in range(M) :\n",
    "                if R[i][j] > 0 :\n",
    "                    eij = R[i][j] - numpy.dot(P[i,:],Q[:,j])\n",
    "                    for k in range(K) :\n",
    "                        P[i][k] = P[i][k] + alpha * (2 * eij * Q[k][j] - beta * P[i][k])\n",
    "                        Q[k][j] = Q[k][j] + alpha * (2 * eij * P[i][k] - beta * Q[k][j])\n",
    "\n",
    "        # after calculating all the elements in R matrix, we are going to calculate the square error for each element\n",
    "        eR = numpy.dot(P,Q)\n",
    "        # error\n",
    "        e = 0\n",
    "        for i in range(N) :\n",
    "            for j in range(M) :\n",
    "                if R[i][j] > 0 :\n",
    "                    e = e + pow(R[i][j] - numpy.dot(P[i,:],Q[:,j]), 2)\n",
    "                    for k in range(K) :\n",
    "                        e = e + (beta/2) * (pow(P[i][k],2) + pow(Q[k][j],2))\n",
    "        print(step)\n",
    "        # till finding the local minimum of the gradient descent\n",
    "        if e < 0.001 :\n",
    "            print(\"convered at step size : \",step)\n",
    "            break\n",
    "\n",
    "    return P, Q.T"
   ]
  },
  {
   "cell_type": "code",
   "execution_count": 67,
   "metadata": {},
   "outputs": [
    {
     "name": "stdout",
     "output_type": "stream",
     "text": [
      "dimension of mat R :( 5 x 4 )\n",
      "dimension of mat P :( 5 x 2 )\n",
      "dimension of mat Q :( 4 x 2 )\n",
      "\n",
      "\n",
      "Actual matrix\n",
      "[[5 3 0 1]\n",
      " [4 0 0 1]\n",
      " [1 1 0 5]\n",
      " [1 0 0 4]\n",
      " [0 1 5 4]]\n",
      "\n",
      "\n",
      "Reproduced Matrix\n",
      "[[ 0.07368159  0.16988935  0.14129298  0.16404829]\n",
      " [ 0.41588372  0.47344919  0.44863434  0.46454271]\n",
      " [ 0.59276463  0.33526902  0.39543619  0.33940434]\n",
      " [ 0.87921374  0.16071932  0.34465988  0.18353519]\n",
      " [ 0.23901501  0.73683187  0.59181051  0.70867825]]\n"
     ]
    }
   ],
   "source": [
    "R = [\n",
    "    [5,3,0,1],\n",
    "     [4,0,0,1],\n",
    "     [1,1,0,5],\n",
    "     [1,0,0,4],\n",
    "     [0,1,5,4],\n",
    "]\n",
    "\n",
    "R = numpy.array(R)\n",
    "N = len(R)\n",
    "M = len(R[0])\n",
    "K = 2\n",
    "\n",
    "P = numpy.random.rand(N,K)\n",
    "Q = numpy.random.rand(M,K)\n",
    "print('dimension of mat R :(',len(R),'x',len(R[0]),')')\n",
    "print('dimension of mat P :(',len(P),'x',len(P[0]),')')\n",
    "print('dimension of mat Q :(',len(Q),'x',len(Q[0]),')')\n",
    "print('\\n')\n",
    "\n",
    "\n",
    "nP, nQ = matrix_factorization(R, P, Q, N, M, K)\n",
    "nR = numpy.dot(nP, nQ.T)\n",
    "print(\"Actual matrix\")\n",
    "print(R)\n",
    "print('\\n')\n",
    "print('Reproduced Matrix')\n",
    "print(nR)\n"
   ]
  }
 ],
 "metadata": {
  "kernelspec": {
   "display_name": "Python 3",
   "language": "python",
   "name": "python3"
  },
  "language_info": {
   "codemirror_mode": {
    "name": "ipython",
    "version": 3
   },
   "file_extension": ".py",
   "mimetype": "text/x-python",
   "name": "python",
   "nbconvert_exporter": "python",
   "pygments_lexer": "ipython3",
   "version": "3.5.0"
  }
 },
 "nbformat": 4,
 "nbformat_minor": 2
}
